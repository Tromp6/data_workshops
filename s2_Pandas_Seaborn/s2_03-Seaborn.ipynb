{
 "cells": [
  {
   "cell_type": "markdown",
   "metadata": {
    "run_control": {
     "frozen": false,
     "read_only": false
    }
   },
   "source": [
    "**Attribution:**  \n",
    "\n",
    "* This notebook was modified from Debsankha Manik's notebook Pandas, GGNB Data Science course held at the University of Goettingen (2019).\n",
    "* Based \"[Seaborn tutorial: Plotting Functions](https://seaborn.pydata.org/tutorial.html) by **Michael Waskom** under [BSD 3-clause](https://opensource.org/licenses/BSD-3-Clause) license.\n",
    "\n",
    "\n",
    "**NOTE:** Some changes have been made.\n"
   ]
  },
  {
   "cell_type": "markdown",
   "metadata": {
    "run_control": {
     "frozen": false,
     "read_only": false
    }
   },
   "source": [
    "<a name=\"top\"></a>Exploratory Data Analysis\n",
    "==="
   ]
  },
  {
   "cell_type": "markdown",
   "metadata": {
    "run_control": {
     "frozen": false,
     "read_only": false
    }
   },
   "source": [
    "<a name=\"top\"></a>Outline\n",
    "---"
   ]
  },
  {
   "cell_type": "markdown",
   "metadata": {
    "run_control": {
     "frozen": false,
     "read_only": false
    }
   },
   "source": [
    "\n",
    "[Sofisticated plotting with Seaborn](#seaborn)\n",
    "  * [Jointplot](#jointplot)\n",
    "  * [Categorical variables](#categorical)\n",
    "  * [Categorical scatterplots](#categorical_scatterplot)\n",
    "  * [Distributions of observations within categories](#distribution)\n",
    "  * [Statistical estimation within categories](#estimation)"
   ]
  },
  {
   "cell_type": "markdown",
   "metadata": {
    "run_control": {
     "frozen": false,
     "read_only": false
    }
   },
   "source": [
    "<a name=\"seaborn\"></a>Sofisticated plotting with Seaborn\n",
    "==="
   ]
  },
  {
   "cell_type": "markdown",
   "metadata": {
    "run_control": {
     "frozen": false,
     "read_only": false
    }
   },
   "source": [
    "Seaborn is a visualization library based on Matplotlib. Its main features are\n",
    "* high level interface for drawing statistical graphics\n",
    "* extensive collection of plotting functions  \n",
    "* works seamlessly with pandas dataframes\n",
    "\n",
    "By simply importing Seaborn, Matplotlib automatically changes its default settings (fontsize, background canvas color, not frames) to look very clean. \n",
    "\n",
    "Accessing Matplotlib via the Seaborn API is a good choice for sofisticated graphics like violon plots or joint plots.\n",
    "If you are looking for tight control over every detail in a plot, you should use the Matplotlib API."
   ]
  },
  {
   "cell_type": "code",
   "execution_count": null,
   "metadata": {
    "run_control": {
     "frozen": false,
     "read_only": false
    }
   },
   "outputs": [],
   "source": [
    "import seaborn as sns"
   ]
  },
  {
   "cell_type": "code",
   "execution_count": null,
   "metadata": {},
   "outputs": [],
   "source": [
    "sns.set(font_scale=2) \n",
    "sns.set_style(\"ticks\")"
   ]
  },
  {
   "cell_type": "code",
   "execution_count": null,
   "metadata": {},
   "outputs": [],
   "source": [
    "import matplotlib.pyplot as plt"
   ]
  },
  {
   "cell_type": "markdown",
   "metadata": {
    "run_control": {
     "frozen": false,
     "read_only": false
    }
   },
   "source": [
    "<a name=\"jointplot\"></a>Jointplot\n",
    "---"
   ]
  },
  {
   "cell_type": "markdown",
   "metadata": {
    "run_control": {
     "frozen": false,
     "read_only": false
    }
   },
   "source": [
    "* The **jointplot()** function offers functionality to plot a scatterplot (bivariate graph) as well as histograms (univariate graph) over both axis.  \n",
    "* To use seaborn together with a pandas dataframe, we provide the function with the dataframe (in this case ```tips```) along with the labels of the columns we want to use (in this case ```total_bill``` and ```tip```)\n",
    "* We could also use NumPy arrays for the x and y arguments"
   ]
  },
  {
   "cell_type": "code",
   "execution_count": null,
   "metadata": {},
   "outputs": [],
   "source": [
    "tips = sns.load_dataset('tips')\n",
    "tips.head()"
   ]
  },
  {
   "cell_type": "code",
   "execution_count": null,
   "metadata": {},
   "outputs": [],
   "source": [
    "tips.dtypes"
   ]
  },
  {
   "cell_type": "code",
   "execution_count": null,
   "metadata": {
    "run_control": {
     "frozen": false,
     "read_only": false
    }
   },
   "outputs": [],
   "source": [
    "j = sns.jointplot(x=\"total_bill\", y=\"tip\", data=tips, kind=\"scatter\")"
   ]
  },
  {
   "cell_type": "markdown",
   "metadata": {
    "run_control": {
     "frozen": false,
     "read_only": false
    }
   },
   "source": [
    "[top](#top)"
   ]
  },
  {
   "cell_type": "markdown",
   "metadata": {
    "run_control": {
     "frozen": false,
     "read_only": false
    }
   },
   "source": [
    "<a name=\"categorical\"></a>Categorical variables\n",
    "---"
   ]
  },
  {
   "cell_type": "markdown",
   "metadata": {
    "run_control": {
     "frozen": false,
     "read_only": false
    }
   },
   "source": [
    "In the tips example we learned how to use plots to visualize the relationship between two continuous numerical variables. But in this dataset there are also categorical variables:\n",
    "* total bill and tip are _numerical variables_\n",
    "* weekday and time of day are _categorical variables_  \n",
    "\n",
    "However, what if one of the main variables we are interested in is categorical? Seaborn offers several options for plots of categorical variables\n",
    "1. plots that show each observation at each level of categorical variable (**swarmplot**)\n",
    "2. plots that show an abstract representation of each distribution of observations (**violinplot** and **boxplot**)\n",
    "3. plots that apply a statistical estimation to show a measure of a central tendency & confidence interval (**barplot**)\n"
   ]
  },
  {
   "cell_type": "markdown",
   "metadata": {
    "run_control": {
     "frozen": false,
     "read_only": false
    }
   },
   "source": [
    "[top](#top)"
   ]
  },
  {
   "cell_type": "markdown",
   "metadata": {
    "run_control": {
     "frozen": false,
     "read_only": false
    }
   },
   "source": [
    "<a name=\"categorical scatterplot\"></a>Categorical scatterplot\n",
    "---"
   ]
  },
  {
   "cell_type": "markdown",
   "metadata": {
    "run_control": {
     "frozen": false,
     "read_only": false
    }
   },
   "source": [
    "A simple way to show the the values of some quantitative variable across the levels of a categorical variable is to generalize a scatterplot to the case where one of the variables is categorical. This usually results in massive overlapping of the datapoints. Seaborn's **swarmplot** uses an algorithm to minimize the overlap between points.  \n",
    "In the example below we see\n",
    "* the _numerical_ variable ```total_bill``` \n",
    "* scattered over the _categorical_ variables of four weekdays\n",
    "* and colored according to the sex of the waiter/waitress"
   ]
  },
  {
   "cell_type": "code",
   "execution_count": null,
   "metadata": {
    "run_control": {
     "frozen": false,
     "read_only": false
    }
   },
   "outputs": [],
   "source": [
    "sns.swarmplot(x=\"day\", y=\"total_bill\", hue=\"sex\", data=tips)\n",
    "\n",
    "plt.legend(bbox_to_anchor=(1, 1))"
   ]
  },
  {
   "cell_type": "markdown",
   "metadata": {
    "run_control": {
     "frozen": false,
     "read_only": false
    }
   },
   "source": [
    "[top](#top)"
   ]
  },
  {
   "cell_type": "markdown",
   "metadata": {
    "run_control": {
     "frozen": false,
     "read_only": false
    }
   },
   "source": [
    "<a name=\"distribution\"></a>Distributions of observations within categories\n",
    "---"
   ]
  },
  {
   "cell_type": "markdown",
   "metadata": {
    "run_control": {
     "frozen": false,
     "read_only": false
    }
   },
   "source": [
    "At a certain point, the categorical scatterplot approach becomes limited in the information it can provide about the distribution of values within each category. There are several ways to summarize this information in ways that facilitate easy comparisons across the category levels."
   ]
  },
  {
   "cell_type": "markdown",
   "metadata": {
    "run_control": {
     "frozen": false,
     "read_only": false
    }
   },
   "source": [
    "##### Boxplot / Whisker plot"
   ]
  },
  {
   "cell_type": "markdown",
   "metadata": {
    "run_control": {
     "frozen": false,
     "read_only": false
    }
   },
   "source": [
    "Boxplots or box-whisker-plots display groups of numerical data through their quartiles (four groups comprising of a quarter of the data each):\n",
    "* the bottom and top of the box show the first and third quartiles\n",
    "* the band inside the box shows the second quartile (median)\n",
    "* the whiskers exten to the lowest and highest value still within 1.5 IQR (https://en.wikipedia.org/wiki/Interquartile_range)\n",
    "* observations that fall outside this range are displayed as independent points (outliers)"
   ]
  },
  {
   "cell_type": "markdown",
   "metadata": {
    "run_control": {
     "frozen": false,
     "read_only": false
    }
   },
   "source": [
    "![boxplot](https://miro.medium.com/max/18000/1*2c21SkzJMf3frPXPAR_gZA.png)"
   ]
  },
  {
   "cell_type": "code",
   "execution_count": null,
   "metadata": {
    "run_control": {
     "frozen": false,
     "read_only": false
    }
   },
   "outputs": [],
   "source": [
    "sns.boxplot(x=\"day\", y=\"total_bill\", hue=\"sex\", data=tips)\n",
    "plt.legend(bbox_to_anchor=(1.0, 1))"
   ]
  },
  {
   "cell_type": "markdown",
   "metadata": {
    "run_control": {
     "frozen": false,
     "read_only": false
    }
   },
   "source": [
    "##### Violinplot"
   ]
  },
  {
   "cell_type": "markdown",
   "metadata": {
    "run_control": {
     "frozen": false,
     "read_only": false
    }
   },
   "source": [
    "A different approach to showing numerical data belonging to several categories while keeping an estimate of its distribution is the violinplot. It combines the idea of the boxplot with the _kernel density estimation_ (KDE).  \n",
    "KDE computes a 'smooth' probability density without the use of a prescribed distribution function and fit parameters. It does so by \n",
    "* replacing each observation with a _kernel_ curve (default = gaussian)\n",
    "* summing up all kernel curves\n",
    "* normalizing the resulting curve to 1\n",
    "\n",
    "If we are comparing two populations (like female & male from the 'tips' dataset), we can 'split' the violins to show one KDE on each side of the violin respectively:"
   ]
  },
  {
   "cell_type": "code",
   "execution_count": null,
   "metadata": {
    "run_control": {
     "frozen": false,
     "read_only": false
    }
   },
   "outputs": [],
   "source": [
    "sns.violinplot(x=\"day\", y=\"total_bill\", hue=\"sex\", data=tips, \\\n",
    "               split=True)\n",
    "plt.legend(bbox_to_anchor=(1.0, 1))"
   ]
  },
  {
   "cell_type": "markdown",
   "metadata": {
    "run_control": {
     "frozen": false,
     "read_only": false
    }
   },
   "source": [
    "[top](#top)"
   ]
  },
  {
   "cell_type": "markdown",
   "metadata": {
    "run_control": {
     "frozen": false,
     "read_only": false
    }
   },
   "source": [
    "<a name=\"estimation\"></a>Statistical estimation within categories\n",
    "---"
   ]
  },
  {
   "cell_type": "markdown",
   "metadata": {
    "run_control": {
     "frozen": false,
     "read_only": false
    }
   },
   "source": [
    "##### Barplot"
   ]
  },
  {
   "cell_type": "markdown",
   "metadata": {
    "run_control": {
     "frozen": false,
     "read_only": false
    }
   },
   "source": [
    "Often, rather than showing the distribution within each category, we might want to show the central tendency of the values. **barplot** accomplishes that by showing \n",
    "* an arbitrary estimate (default is the mean)\n",
    "* a confidence interval around the estimate using bootstrapping when there are multiple observations in each category  \n",
    "\n",
    "In the example below, the catgorical variables are\n",
    "* the sexes ```male``` and ```female``` \n",
    "* as well as the class ```first```, ```second``` and ```third```  \n",
    "\n",
    "The numerical data is the percentage in each category that survived the titanic, the confindence interval is shown as black errorbar. "
   ]
  },
  {
   "cell_type": "code",
   "execution_count": null,
   "metadata": {
    "run_control": {
     "frozen": false,
     "read_only": false
    }
   },
   "outputs": [],
   "source": [
    "# dataset of survivors of the titanica\n",
    "titanic = sns.load_dataset(\"titanic\")\n",
    "titanic.head()"
   ]
  },
  {
   "cell_type": "code",
   "execution_count": null,
   "metadata": {
    "run_control": {
     "frozen": false,
     "read_only": false
    }
   },
   "outputs": [],
   "source": [
    "sns.barplot(x=\"sex\", y=\"survived\", hue=\"class\", data=titanic)\n",
    "plt.legend(bbox_to_anchor=(1.0, 1))"
   ]
  },
  {
   "cell_type": "markdown",
   "metadata": {
    "run_control": {
     "frozen": false,
     "read_only": false
    }
   },
   "source": [
    "##### Countplot"
   ]
  },
  {
   "cell_type": "markdown",
   "metadata": {
    "run_control": {
     "frozen": false,
     "read_only": false
    }
   },
   "source": [
    "Similar to a histogram we can also show the data as a **countplot** that is, in essence, a histogram over a categorical rather than a numerical variable.  \n",
    "With the same titanic data we can show the number of survivors over the deck:"
   ]
  },
  {
   "cell_type": "code",
   "execution_count": null,
   "metadata": {
    "run_control": {
     "frozen": false,
     "read_only": false
    }
   },
   "outputs": [],
   "source": [
    "sns.countplot(x=\"deck\", data=titanic, palette=\"Greens_d\")"
   ]
  },
  {
   "cell_type": "markdown",
   "metadata": {
    "run_control": {
     "frozen": false,
     "read_only": false
    }
   },
   "source": [
    "[top](#top)"
   ]
  }
 ],
 "metadata": {
  "kernelspec": {
   "display_name": "Python 3",
   "language": "python",
   "name": "python3"
  },
  "language_info": {
   "codemirror_mode": {
    "name": "ipython",
    "version": 3
   },
   "file_extension": ".py",
   "mimetype": "text/x-python",
   "name": "python",
   "nbconvert_exporter": "python",
   "pygments_lexer": "ipython3",
   "version": "3.7.4"
  },
  "latex_envs": {
   "LaTeX_envs_menu_present": true,
   "autocomplete": true,
   "bibliofile": "biblio.bib",
   "cite_by": "apalike",
   "current_citInitial": 1,
   "eqLabelWithNumbers": true,
   "eqNumInitial": 1,
   "hotkeys": {
    "equation": "Ctrl-E",
    "itemize": "Ctrl-I"
   },
   "labels_anchors": false,
   "latex_user_defs": false,
   "report_style_numbering": false,
   "user_envs_cfg": false
  },
  "toc": {
   "colors": {
    "hover_highlight": "#DAA520",
    "running_highlight": "#FF0000",
    "selected_highlight": "#FFD700"
   },
   "moveMenuLeft": true,
   "nav_menu": {
    "height": "414px",
    "width": "254px"
   },
   "navigate_menu": true,
   "number_sections": true,
   "sideBar": true,
   "threshold": 4,
   "toc_cell": false,
   "toc_section_display": "block",
   "toc_window_display": false,
   "widenNotebook": false
  }
 },
 "nbformat": 4,
 "nbformat_minor": 1
}
