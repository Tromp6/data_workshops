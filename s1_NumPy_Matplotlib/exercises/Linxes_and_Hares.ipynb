{
 "cells": [
  {
   "cell_type": "markdown",
   "metadata": {},
   "source": [
    "# Data statistics of lynxes and hares\n",
    "\n",
    "\n",
    "Exercise from the course datascience-course-ggnb.\n",
    "\n",
    " The data in populations.txt describes the populations of hares and lynxes (and carrots) in northern Canada during 20 years \n",
    "\n",
    "### First \n",
    "* Load the file populations.txt as data\n",
    "* Define 4 arrays called : year, hares, lynxes, carrots. In order to have the columns as variables, take the transpose of data. Then, load (contain in data) the associated values in the 4 corresponding arrays.\n",
    "* Plot the corresponding number of hares, lynxes and carrots as a function of the year\n",
    "* -- Precise the axes (0.2,0.1,0.5,0.8)\n",
    "* -- Plot a legend at the location (1.05,0.5)\n",
    "\n",
    "### Second\n",
    "\n",
    "* Calculate the mean and standard deviation of the populations of each species for the years in the period.\n",
    "* Which year each species had the largest population?\n",
    "* Which species has the largest population for each year? (Hint : argsort & fancy indexing of np.array(['H', 'L', 'C']))\n",
    "* Which years any of the populations is above 50000? (Hint: comparisons and np.any)\n",
    "* The top 2 years for each species when they had the lowest populations. (Hint : argsort, fancy indexing)\n",
    "\n",
    "\n",
    "… all without for-loops."
   ]
  },
  {
   "cell_type": "code",
   "execution_count": null,
   "metadata": {},
   "outputs": [],
   "source": []
  }
 ],
 "metadata": {
  "kernelspec": {
   "display_name": "Python 3",
   "language": "python",
   "name": "python3"
  },
  "language_info": {
   "codemirror_mode": {
    "name": "ipython",
    "version": 3
   },
   "file_extension": ".py",
   "mimetype": "text/x-python",
   "name": "python",
   "nbconvert_exporter": "python",
   "pygments_lexer": "ipython3",
   "version": "3.7.4"
  }
 },
 "nbformat": 4,
 "nbformat_minor": 2
}
